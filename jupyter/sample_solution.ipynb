{
 "cells": [
  {
   "cell_type": "code",
   "execution_count": 2,
   "metadata": {},
   "outputs": [],
   "source": [
    "import pandas as pd"
   ]
  },
  {
   "cell_type": "code",
   "execution_count": 3,
   "metadata": {},
   "outputs": [],
   "source": [
    "# Load data\n",
    "filepaths = ['../data/dns.json']\n",
    "df = pd.concat([pd.read_json(file, lines=True) for file in filepaths], ignore_index=True)"
   ]
  },
  {
   "cell_type": "code",
   "execution_count": 4,
   "metadata": {},
   "outputs": [],
   "source": [
    "# Split query into tier-2 domain and subdomain\n",
    "df['t2_domain'] = df['query'].apply(lambda x: '.'.join(str(x).split('.')[-2:]))\n",
    "df['subdomain'] = df['query'].apply(lambda x: '.'.join(str(x).split('.')[:-2]))"
   ]
  },
  {
   "cell_type": "code",
   "execution_count": 5,
   "metadata": {},
   "outputs": [],
   "source": [
    "# Group by domain and count...\n",
    "\n",
    "# Number of queries\n",
    "num_queries = df[['t2_domain', 'subdomain']].groupby(['t2_domain']).count().rename(columns={'subdomain':'num_queries'})"
   ]
  },
  {
   "cell_type": "code",
   "execution_count": 6,
   "metadata": {},
   "outputs": [],
   "source": [
    "# Number of unique subdomains\n",
    "num_unique_subdomains = pd.DataFrame(df[['t2_domain', 'subdomain']].groupby(['t2_domain']).subdomain.nunique())\\\n",
    "    .rename(columns={'subdomain':'num_unique_subdomains'})"
   ]
  },
  {
   "cell_type": "code",
   "execution_count": 7,
   "metadata": {},
   "outputs": [],
   "source": [
    "# Number of unique id_orig_h's per rootdomain\n",
    "num_unique_id_orig = pd.DataFrame(df[['t2_domain', 'id_orig_h']].groupby(['t2_domain']).id_orig_h.nunique())\\\n",
    "    .rename(columns={'id_orig_h':'num_unique_id_orig'})"
   ]
  },
  {
   "cell_type": "code",
   "execution_count": 8,
   "metadata": {},
   "outputs": [],
   "source": [
    "# Summarize the data\n",
    "summary_df = pd.concat([num_queries, num_unique_subdomains, num_unique_id_orig], axis=1)\n",
    "# Ratio the number of queries to the number of unique subdomains\n",
    "summary_df['ratio'] = summary_df['num_queries'] / summary_df['num_unique_subdomains']\n",
    "# Exaggerate those entries that have a high number of unique subdomains and a low 'ratio'\n",
    "summary_df['subdom^inv_ratio'] = pow(summary_df['num_unique_subdomains'], (1 / summary_df['ratio']))"
   ]
  },
  {
   "cell_type": "code",
   "execution_count": 9,
   "metadata": {},
   "outputs": [
    {
     "data": {
      "text/html": [
       "<div>\n",
       "<style scoped>\n",
       "    .dataframe tbody tr th:only-of-type {\n",
       "        vertical-align: middle;\n",
       "    }\n",
       "\n",
       "    .dataframe tbody tr th {\n",
       "        vertical-align: top;\n",
       "    }\n",
       "\n",
       "    .dataframe thead th {\n",
       "        text-align: right;\n",
       "    }\n",
       "</style>\n",
       "<table border=\"1\" class=\"dataframe\">\n",
       "  <thead>\n",
       "    <tr style=\"text-align: right;\">\n",
       "      <th></th>\n",
       "      <th>num_queries</th>\n",
       "      <th>num_unique_subdomains</th>\n",
       "      <th>num_unique_id_orig</th>\n",
       "      <th>ratio</th>\n",
       "      <th>subdom^inv_ratio</th>\n",
       "    </tr>\n",
       "    <tr>\n",
       "      <th>t2_domain</th>\n",
       "      <th></th>\n",
       "      <th></th>\n",
       "      <th></th>\n",
       "      <th></th>\n",
       "      <th></th>\n",
       "    </tr>\n",
       "  </thead>\n",
       "  <tbody>\n",
       "    <tr>\n",
       "      <th>calculus.ski</th>\n",
       "      <td>1130</td>\n",
       "      <td>1125</td>\n",
       "      <td>1</td>\n",
       "      <td>1.004444</td>\n",
       "      <td>1090.565733</td>\n",
       "    </tr>\n",
       "    <tr>\n",
       "      <th>sourceforge.net</th>\n",
       "      <td>4</td>\n",
       "      <td>4</td>\n",
       "      <td>1</td>\n",
       "      <td>1.000000</td>\n",
       "      <td>4.000000</td>\n",
       "    </tr>\n",
       "    <tr>\n",
       "      <th>msedge.net</th>\n",
       "      <td>20</td>\n",
       "      <td>8</td>\n",
       "      <td>1</td>\n",
       "      <td>2.500000</td>\n",
       "      <td>2.297397</td>\n",
       "    </tr>\n",
       "    <tr>\n",
       "      <th>taboola.com</th>\n",
       "      <td>2</td>\n",
       "      <td>2</td>\n",
       "      <td>1</td>\n",
       "      <td>1.000000</td>\n",
       "      <td>2.000000</td>\n",
       "    </tr>\n",
       "    <tr>\n",
       "      <th>slashdotmedia.com</th>\n",
       "      <td>3</td>\n",
       "      <td>2</td>\n",
       "      <td>1</td>\n",
       "      <td>1.500000</td>\n",
       "      <td>1.587401</td>\n",
       "    </tr>\n",
       "  </tbody>\n",
       "</table>\n",
       "</div>"
      ],
      "text/plain": [
       "                   num_queries  num_unique_subdomains  num_unique_id_orig  \\\n",
       "t2_domain                                                                   \n",
       "calculus.ski              1130                   1125                   1   \n",
       "sourceforge.net              4                      4                   1   \n",
       "msedge.net                  20                      8                   1   \n",
       "taboola.com                  2                      2                   1   \n",
       "slashdotmedia.com            3                      2                   1   \n",
       "\n",
       "                      ratio  subdom^inv_ratio  \n",
       "t2_domain                                      \n",
       "calculus.ski       1.004444       1090.565733  \n",
       "sourceforge.net    1.000000          4.000000  \n",
       "msedge.net         2.500000          2.297397  \n",
       "taboola.com        1.000000          2.000000  \n",
       "slashdotmedia.com  1.500000          1.587401  "
      ]
     },
     "execution_count": 9,
     "metadata": {},
     "output_type": "execute_result"
    }
   ],
   "source": [
    "# Sanity check\n",
    "summary_df.sort_values('subdom^inv_ratio', ascending=False).head()"
   ]
  },
  {
   "cell_type": "code",
   "execution_count": 10,
   "metadata": {},
   "outputs": [],
   "source": [
    "# We use very naive stats to define the boundaries of \"normal\".\n",
    "means = summary_df.mean()\n",
    "stds = summary_df.std ()\n",
    "stats = pd.concat((means, stds), axis=1).rename(columns={0:'mean', 1:'std'})\n",
    "\n",
    "def lower_bound(mean, std):\n",
    "    return max(mean - std, 0) #negative values don't make sense\n",
    "        \n",
    "def upper_bound(mean, std):\n",
    "    return mean + std"
   ]
  },
  {
   "cell_type": "code",
   "execution_count": 11,
   "metadata": {},
   "outputs": [],
   "source": [
    "# Returns set of rootdomains with many subdomains.\n",
    "def detect_tunnel_subdomains(summary, stats):\n",
    "        mean_subdom = stats.loc['num_unique_subdomains', 'mean']\n",
    "        std_subdom = stats.loc['num_unique_subdomains', 'std']\n",
    "        ub_subdom = upper_bound(mean_subdom, std_subdom)\n",
    "        susp_subdom = set(summary[summary['num_unique_subdomains'] >= ub_subdom].index)\n",
    "        return susp_subdom\n",
    "\n",
    "susp_subdomains = detect_tunnel_subdomains(summary_df, stats) "
   ]
  },
  {
   "cell_type": "code",
   "execution_count": 12,
   "metadata": {},
   "outputs": [],
   "source": [
    "# Returns set of rootdomains with low subdomain:rootdomain ratio.   \n",
    "def detect_tunnel_ratio(summary, stats):\n",
    "    mean_ratio = stats.loc['ratio', 'mean']\n",
    "    std_ratio = stats.loc['ratio', 'std']\n",
    "    ub_ratio = upper_bound(mean_ratio, std_ratio)\n",
    "    susp_ratio = set(summary[summary['ratio'] <= ub_ratio].index)\n",
    "    return susp_ratio    \n",
    "\n",
    "susp_ratio = detect_tunnel_ratio(summary_df, stats) "
   ]
  },
  {
   "cell_type": "code",
   "execution_count": 13,
   "metadata": {},
   "outputs": [],
   "source": [
    "# Return set of rootdomains with high (num_subdom)^(1/ratio).\n",
    "def detect_tunnel_pow(summary, stats):\n",
    "    mean_pow = stats.loc['subdom^inv_ratio', 'mean']\n",
    "    std_pow = stats.loc['subdom^inv_ratio', 'std']\n",
    "    ub_pow = upper_bound(mean_pow, std_pow)\n",
    "    susp_pow = set(summary[summary['subdom^inv_ratio'] >= ub_pow].index)\n",
    "    return susp_pow\n",
    "\n",
    "susp_pow = detect_tunnel_pow(summary_df, stats)"
   ]
  },
  {
   "cell_type": "code",
   "execution_count": 14,
   "metadata": {},
   "outputs": [
    {
     "data": {
      "text/plain": [
       "{'calculus.ski'}"
      ]
     },
     "execution_count": 14,
     "metadata": {},
     "output_type": "execute_result"
    }
   ],
   "source": [
    "# set intersection of all domains judged suspicious by a variety of factors\n",
    "susp_subdomains & susp_ratio & susp_pow"
   ]
  },
  {
   "cell_type": "code",
   "execution_count": null,
   "metadata": {},
   "outputs": [],
   "source": []
  }
 ],
 "metadata": {
  "kernelspec": {
   "display_name": "Python 3",
   "language": "python",
   "name": "python3"
  },
  "language_info": {
   "codemirror_mode": {
    "name": "ipython",
    "version": 3
   },
   "file_extension": ".py",
   "mimetype": "text/x-python",
   "name": "python",
   "nbconvert_exporter": "python",
   "pygments_lexer": "ipython3",
   "version": "3.6.5"
  }
 },
 "nbformat": 4,
 "nbformat_minor": 2
}
